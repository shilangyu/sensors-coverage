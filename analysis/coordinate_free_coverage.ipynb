{
 "cells": [
  {
   "attachments": {},
   "cell_type": "markdown",
   "id": "e0a4bb1f",
   "metadata": {},
   "source": [
    "# Domain coverage with coordinate-free sensors\n",
    "\n",
    "Sensor coverage problem solved by means of the Rips complex and its relative homology in a coordinate-free scenario.\n",
    "\n",
    "This is an implementation of the ideas in the paper **_Coordinate-free coverage in sensor networks with controlled boundaries via homology_** by **V. De Silva** and **R. Ghrist**.\n",
    "\n",
    "## Problem statement\n",
    "\n",
    "Given a compact connected domain $D \\subset \\mathbb R^2$ we wish to know whether a set of sensors (nodes) $X \\subset D$ with a lack of localization capabilities cover (contain) $D$. Four assumptions are made:\n",
    "\n",
    "1. Nodes $X$ are uniquely identifiable. Each node can detect the identity of any node with **broadcast radius** $r_b$, but they cannot determine the direction nor distance to that neighboring node.\n",
    "2. Nodes have have a covering radius which covers parts of the domain $r_c \\ge \\frac{r_b}{\\sqrt 3}$.\n",
    "3. Boundary of $D$ denoted by $\\partial D$ is connected and piecewise-linear with vertices marked **fence nodes** $X_f$ (they form a cycle).\n",
    "4. Each fence node $v \\in X_f$ is within $r_b$ distance of its two neighbors.\n",
    "\n",
    "The question then is to determine whether the sensors cover the domain, ie.\n",
    "\n",
    "$$\n",
    "\\bigcup_{x \\in X} D^2(x, r_c) \\stackrel{?}{\\supseteq} D\n",
    "$$\n",
    "\n",
    "Where $D^2(x, R)$ denotes a disk of radius $r_c$ centered at $x$; the coverage of a sensor at $x$.\n",
    "\n",
    "## Solution\n",
    "\n",
    "We construct the Rips complex $\\mathcal R$ from the communication graph of nodes $X$ and the radius $r_b$; two nodes are connected if they are within the distance $r_b$. We also construct the Rips complex of the fence nodes $X_f$, which is simply a 1-cycle denoted here by $\\mathcal F$. Of course, $\\mathcal F \\subset \\mathcal R$. Then we apply the theorem derived in the paper:\n",
    "\n",
    "> The union of the radius $r_c$ disks contains $D$ if there is a nontrivial element of the relative homology $H_2(\\mathcal R, \\mathcal F)$ whose boundary is nonvanishing.\n",
    "\n",
    "### Remarks\n",
    "\n",
    "Authors note that the bound $r_c \\ge \\frac{r_b}{\\sqrt 3}$ (consider the case of an equilateral triangle) together with the verification of holes in $\\mathcal R$ (ie $H_1(\\mathcal R) = \\mathbf 0$) is enough to conclude that the coverage of $D$ is obtained. But the criterion considering the relative homology of complexes of nodes and the fence is a stronger one. In both cases because $r_c$ does not necessarily equal to $r_b$ the criterion is only a sufficient condition, not a necessary one.\n",
    "\n",
    "## Load sensors\n",
    "\n",
    "We first load the JSON file describing the sensors network created with the sensors network creator. Feel free to change the loaded file to verify the computation for other cases."
   ]
  },
  {
   "cell_type": "code",
   "execution_count": 112,
   "id": "c33e5e17",
   "metadata": {},
   "outputs": [],
   "source": [
    "from dataclasses_json import dataclass_json\n",
    "from dataclasses import dataclass\n",
    "\n",
    "@dataclass_json\n",
    "@dataclass(frozen=True)\n",
    "class Point:\n",
    "    x: int\n",
    "    y: int\n",
    "    fence: bool\n",
    "\n",
    "@dataclass_json\n",
    "@dataclass(frozen=True)\n",
    "class SensorsData:\n",
    "    coverage_radius: int\n",
    "    broadcast_radius: int\n",
    "    sensors: list[Point]\n",
    "\n",
    "with open('../data/not_covered_sensors.json', 'r') as f:\n",
    "    data: SensorsData = SensorsData.from_json(f.read())\n",
    "\n"
   ]
  },
  {
   "attachments": {},
   "cell_type": "markdown",
   "id": "07b7c0dd",
   "metadata": {},
   "source": [
    "## Draw the sensors\n",
    "\n",
    "We visualize the sensors, their broadcast, and their coverage."
   ]
  },
  {
   "cell_type": "code",
   "execution_count": 113,
   "id": "692fda9b",
   "metadata": {},
   "outputs": [
    {
     "data": {
      "application/vnd.jupyter.widget-view+json": {
       "model_id": "0b264778ed674f05a50e1eddd2169df3",
       "version_major": 2,
       "version_minor": 0
      },
      "text/plain": [
       "Canvas()"
      ]
     },
     "execution_count": 113,
     "metadata": {},
     "output_type": "execute_result"
    }
   ],
   "source": [
    "from ipycanvas import Canvas, hold_canvas\n",
    "\n",
    "canvas = Canvas(width=700, height=500)\n",
    "\n",
    "\n",
    "for p in data.sensors:\n",
    "    canvas.fill_style = \"rgba(130, 245, 216, 0.4)\"\n",
    "    canvas.fill_circle(p.x, p.y, data.coverage_radius)\n",
    "for p in data.sensors:\n",
    "    canvas.fill_style = \"rgba(103, 157, 245, 0.4)\"\n",
    "    canvas.fill_circle(p.x, p.y, data.broadcast_radius)\n",
    "for p in data.sensors:\n",
    "    canvas.fill_style = \"black\"\n",
    "    canvas.fill_circle(p.x, p.y, 3)\n",
    "\n",
    "canvas"
   ]
  },
  {
   "attachments": {},
   "cell_type": "markdown",
   "id": "ddf502b8",
   "metadata": {},
   "source": [
    "## Construct the Rips complex\n",
    "\n",
    "The theorem can be interpreted the following way: $\\dim H_2(\\mathcal R, \\mathcal F) > 0$ and there exists a generator $[\\alpha] \\in H_2(\\mathcal R, \\mathcal F)$ such that $\\partial\\alpha \\ne 0$. `gudhi` does not support calculation of relative homology but using the excision theorem we can calculate this homology. The theorem says that the relative homology is isomorphic to the reduced homology of the quotient space: $\\tilde H_*(X / A) \\simeq H_*(X, A)$. Since $\\tilde H_k \\simeq H_k$ for $k > 0$ and we wish to consider $k=2$, we can use this theorem by construction of $\\mathcal R / \\mathcal F$.\n",
    "\n",
    "Thanks to homotopy invariance it is enough if we construct a complex whose homotopy type is that of the quotient space $\\mathcal R / \\mathcal F$. For example, one where we identify all fence nodes. To do so, to the $\\mathcal R$ complex we add a disjoint vertex which we then connect to every simplex in $\\mathcal F$.\n",
    "\n",
    "Note: we directly use the coordinates here, but this is merely for simulation purposes. The Rips complex could be constructed without these coordinates, all we need to know is whether some sensor is within the broadcast radius.\n",
    "\n",
    "We start by separating the fence and inside nodes. As a sanity check of the fence complex we verify whether it is a 1-cycle."
   ]
  },
  {
   "cell_type": "code",
   "execution_count": 114,
   "id": "3480e034",
   "metadata": {},
   "outputs": [],
   "source": [
    "import gudhi as gd\n",
    "\n",
    "inside = [(o.x, o.y) for o in data.sensors if not o.fence]\n",
    "fence = [(o.x, o.y) for o in data.sensors if o.fence]\n",
    "\n",
    "def remove_persistence(cmplx: gd.SimplexTree):\n",
    "    for (simplex, _) in cmplx.get_filtration():\n",
    "        cmplx.assign_filtration(simplex, 0)\n",
    "\n",
    "\n",
    "F = gd.RipsComplex(points=fence, max_edge_length=data.broadcast_radius)\n",
    "F = F.create_simplex_tree(len(fence))\n",
    "# we don't care about persistance, this sets all filtration values to zero\n",
    "F.reset_filtration(0)\n",
    "F.compute_persistence(persistence_dim_max=True)\n",
    "\n",
    "# 1-cycle\n",
    "assert F.dimension() == 1 and F.betti_numbers() == [1, 1]\n"
   ]
  },
  {
   "attachments": {},
   "cell_type": "markdown",
   "id": "accba48c",
   "metadata": {},
   "source": [
    "Once the fence is OK we proceed to construct $\\mathcal R / \\mathcal F$ (or rather something with equivalent properties) by constructing the cone over simplices of $\\mathcal F$ as described before."
   ]
  },
  {
   "cell_type": "code",
   "execution_count": 117,
   "id": "0d64b940",
   "metadata": {},
   "outputs": [],
   "source": [
    "R = gd.RipsComplex(points=[*inside, *fence], max_edge_length=data.broadcast_radius)\n",
    "R = R.create_simplex_tree(len(inside) + len(fence))\n",
    "R.reset_filtration(0)\n",
    "\n",
    "RF = R.copy()\n",
    "\n",
    "# find all fence simplices and connect them to a new vertex\n",
    "for (simplex, _) in R.get_simplices():\n",
    "    if len(simplex) != 2 or not all([x >= len(inside) for x in simplex]):\n",
    "        continue\n",
    "    RF.insert([*simplex, len(inside) + len(fence)])\n",
    "\n",
    "RF.compute_persistence(persistence_dim_max=True)"
   ]
  },
  {
   "attachments": {},
   "cell_type": "markdown",
   "id": "aa41f596",
   "metadata": {},
   "source": [
    "Now can can verify the condition $\\dim H_2(\\mathcal R, \\mathcal F) = \\dim H_2(\\mathcal R / \\mathcal F) > 0$"
   ]
  },
  {
   "cell_type": "code",
   "execution_count": 119,
   "id": "9891e815",
   "metadata": {},
   "outputs": [
    {
     "name": "stdout",
     "output_type": "stream",
     "text": [
      "Is dim(H_2(R, F)) > 0? False\n"
     ]
    }
   ],
   "source": [
    "print(f'Is dim(H_2(R, F)) > 0?', RF.betti_numbers()[2] > 0)"
   ]
  }
 ],
 "metadata": {
  "kernelspec": {
   "display_name": "Python 3 (ipykernel)",
   "language": "python",
   "name": "python3"
  },
  "language_info": {
   "codemirror_mode": {
    "name": "ipython",
    "version": 3
   },
   "file_extension": ".py",
   "mimetype": "text/x-python",
   "name": "python",
   "nbconvert_exporter": "python",
   "pygments_lexer": "ipython3",
   "version": "3.10.10"
  },
  "vscode": {
   "interpreter": {
    "hash": "b483a1df8172f81303bf9bd6aa9283a9a99fa85cd37f3a07226ce46c1fd8d332"
   }
  }
 },
 "nbformat": 4,
 "nbformat_minor": 5
}
