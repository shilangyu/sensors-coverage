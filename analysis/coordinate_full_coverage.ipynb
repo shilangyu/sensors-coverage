{
 "cells": [
  {
   "attachments": {},
   "cell_type": "markdown",
   "id": "e0a4bb1f",
   "metadata": {},
   "source": [
    "# Domain coverage with coordinate-full sensors\n",
    "\n",
    "Sensor coverage problem solved by means of homology of the Čech complex in a coordinate-full scenario.\n",
    "\n",
    "## Problem statement\n",
    "\n",
    "Given a contractible (homotopy equivalent to a point) compact domain $D \\subset \\mathbb R^d$ we wish to know whether a set of sensors specified as a point cloud $X \\subset \\mathbb R^d$ with a given coverage radius $R$ cover (contain) $D$. In other words:\n",
    "\n",
    "$$\n",
    "\\bigcup_{x \\in X} B^d(x, R) \\stackrel{?}{\\supseteq} D\n",
    "$$\n",
    "\n",
    "Where $B^d(x, R)$ denotes a d-ball of radius $R$ centered at $x$; the coverage of a sensor at $x$.\n",
    "\n",
    "### Assumptions\n",
    "\n",
    "By $\\partial D$ we denote the boundary of the domain. We assume that $\\partial D$ is covered by some sensors. This helps to clearly define what $D$ is.\n",
    "\n",
    "## Solution\n",
    "\n",
    "We construct the Čech complex given the set of sensor coverages as open sets (they are balls). The obtained nerve $N(U_R^{\\text{Cech}})$ is homotopy equivalent to the union of all cover regions as per the nerve lemma: the covering is open (balls are open) and arbitrary non-empty intersections of cover regions are contractible. These intersections are contractible because each cover region is a convex set and intersections of convex sets form convex sets which are themselves contractible. \n",
    "\n",
    "Since the nerve is homotopy equivalent to the union of all cover regions, we can look for \"holes\" in the region by inspection of the homology groups. We know that the boundary $\\partial D$ is covered and marks the bounds of the domain. Therefore if the region is covered we expect to find no holes, ie the reduced homology is trivial $\\dim \\tilde H_*(N(U_R^{\\text{Cech}})) = 0$.\n",
    "\n",
    "Important note: this is merely an implication, not a condition for coverage. Homology is not enough to capture the information needed to find contractible spaces (which is what we are after). A popular \"non-physical\" example is the [Warsaw circle](https://wildtopology.com/bestiary/warsaw-circle) which has trivial reduced homologies but is not contractible.\n",
    "\n",
    "### Remarks\n",
    "\n",
    "Solving this using homology groups is not optimal. There exist sophisticated computational geometry ways to solve this problem with less constraints on the domain and sensors. A more powerful idea using relative homology can provide a sufficient condition for coordinate-free sensor networks. This idea is explored in the separate notebook.\n",
    "\n",
    "## Load sensors\n",
    "\n",
    "We first load the JSON file describing the sensors network created with the sensors network creator. Feel free to change the loaded file to verify the computation for other cases."
   ]
  },
  {
   "cell_type": "code",
   "execution_count": 2,
   "id": "c33e5e17",
   "metadata": {},
   "outputs": [],
   "source": [
    "from dataclasses_json import dataclass_json\n",
    "from dataclasses import dataclass\n",
    "\n",
    "@dataclass_json\n",
    "@dataclass(frozen=True)\n",
    "class Point:\n",
    "    x: int\n",
    "    y: int\n",
    "\n",
    "@dataclass_json\n",
    "@dataclass(frozen=True)\n",
    "class SensorsData:\n",
    "    coverage_radius: int\n",
    "    sensors: list[Point]\n",
    "\n",
    "with open('../data/not_covered_sensors.json', 'r') as f:\n",
    "    data: SensorsData = SensorsData.from_json(f.read())\n",
    "\n",
    "\n"
   ]
  },
  {
   "cell_type": "markdown",
   "id": "07b7c0dd",
   "metadata": {},
   "source": [
    "## Draw the sensors\n",
    "\n",
    "We visualize the sensors and their coverage."
   ]
  },
  {
   "cell_type": "code",
   "execution_count": 3,
   "id": "692fda9b",
   "metadata": {},
   "outputs": [
    {
     "data": {
      "application/vnd.jupyter.widget-view+json": {
       "model_id": "3c11adec2b844b4c8dcd4714c7271666",
       "version_major": 2,
       "version_minor": 0
      },
      "text/plain": [
       "Canvas()"
      ]
     },
     "execution_count": 3,
     "metadata": {},
     "output_type": "execute_result"
    }
   ],
   "source": [
    "from ipycanvas import Canvas, hold_canvas\n",
    "\n",
    "canvas = Canvas(width=700, height=500)\n",
    "\n",
    "\n",
    "for p in data.sensors:\n",
    "    canvas.fill_style = \"rgba(130, 245, 216, 0.4)\"\n",
    "    canvas.fill_circle(p.x, p.y, data.coverage_radius)\n",
    "for p in data.sensors:\n",
    "    canvas.fill_style = \"black\"\n",
    "    canvas.fill_circle(p.x, p.y, 3)\n",
    "\n",
    "canvas"
   ]
  },
  {
   "cell_type": "markdown",
   "id": "ddf502b8",
   "metadata": {},
   "source": [
    "## Construct the Čech complex\n",
    "\n",
    "`gudhi` library provides no primitive for Čech complexes, but it does provide the Alpha complex which can be interpreted in equivalent manner by change of parameters ($\\epsilon_{\\text{Cech}}^2 = \\alpha_{\\text{Alpha}}$)"
   ]
  },
  {
   "cell_type": "code",
   "execution_count": 4,
   "id": "3480e034",
   "metadata": {},
   "outputs": [],
   "source": [
    "import gudhi as gd\n",
    "\n",
    "cech = gd.AlphaComplex(points=[(o.x, o.y) for o in data.sensors], precision='exact')\n",
    "alpha = data.coverage_radius**2"
   ]
  },
  {
   "cell_type": "markdown",
   "id": "714194c9",
   "metadata": {},
   "source": [
    "We finish by checking the betti numbers (dimension of the homology groups) at `alpha` and expect them to be 0 for a covered domain."
   ]
  },
  {
   "cell_type": "code",
   "execution_count": 4,
   "id": "9317d016",
   "metadata": {},
   "outputs": [
    {
     "name": "stdout",
     "output_type": "stream",
     "text": [
      "[1, 4]\n",
      "Is probably covered? False\n"
     ]
    }
   ],
   "source": [
    "cmplx = cech.create_simplex_tree()\n",
    "\n",
    "cmplx.compute_persistence()\n",
    "\n",
    "betti = cmplx.persistent_betti_numbers(alpha, alpha)\n",
    "print(betti)\n",
    "\n",
    "#                             special case for H_0\n",
    "print('Is probably covered?', betti[0] == 1 and all(b == 0 for b in betti[1:]))\n"
   ]
  }
 ],
 "metadata": {
  "kernelspec": {
   "display_name": "Python 3 (ipykernel)",
   "language": "python",
   "name": "python3"
  },
  "language_info": {
   "codemirror_mode": {
    "name": "ipython",
    "version": 3
   },
   "file_extension": ".py",
   "mimetype": "text/x-python",
   "name": "python",
   "nbconvert_exporter": "python",
   "pygments_lexer": "ipython3",
   "version": "3.10.9 (main, Dec 15 2022, 17:11:09) [Clang 14.0.0 (clang-1400.0.29.202)]"
  },
  "vscode": {
   "interpreter": {
    "hash": "b483a1df8172f81303bf9bd6aa9283a9a99fa85cd37f3a07226ce46c1fd8d332"
   }
  }
 },
 "nbformat": 4,
 "nbformat_minor": 5
}
